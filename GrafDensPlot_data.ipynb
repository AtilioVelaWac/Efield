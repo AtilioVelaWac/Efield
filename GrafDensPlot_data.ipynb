import numpy as np
import pandas as pd

# Parámetros de entrada
L = 48
tipo_de_red = "Triangular_J=1"   #Square   -   Triangular_J=-1   -   Triangular_J=1
Estr = "Exy"
hstr = "hz"
Nb = 20  # Número de campos B
pasoB = 0.5
Ne = 20  # Número de campos E
pasoE = 0.1
Ncopy = 10
Ntemp = 77

# Listas para almacenar los datos
datapolarx = []
datapolary = []
datapolarz = []
datamagnet = []
dataabsmagnet = []
datachiral = []
datacampoB = []
datacampoE = []
datatemp = []
chiralBvsT = []

# Loop para recolectar los datos
for n in range(Ne):  # Iteración sobre los campos E
    for k in range(Nb):  # Iteración sobre los campos B
        campoB = k * pasoB + 0.0000001
        hh = float(f'{campoB:.2f}')
        Nint = len(str(int(campoB)))
        #print("campo = "+ str(hh))
        campoE = n * pasoE + 0.0000001
        ee = float(f'{campoE:.2f}')
        
        if Estr == "Exy":
            camposE = "_"+str(ee).ljust(4,"0")+"00_"+str(ee).ljust(4,"0")+"00_0.0000"
        if Estr == "Ez":
            camposE = "_0.0000_0.0000_"+str(ee).ljust(4,"0")+"00"        

        polarx, polary, polarz, magnet, absmagnet, chiral = 0, 0, 0, 0, 0, 0
        CantidadRealdeCopias = Ncopy
        contador = 0
        
        for copy in range(Ncopy):
            archivo1 = "TriangularDMxy_L_"+str(L)+"_J1_1.0000_DMxy_0.5000_Kan_0.0000"
            archivo2 = "_Tf_0.0009"
            f = "D:\\Doctorado\\data2025\\"+tipo_de_red+"_L="+str(L)+"_"+Estr+"\\Mag_"+archivo1+"_E"+camposE+"_alpha_0.2000_hx_0.0000_hy_0.0000_hz_"+str(hh).ljust(3+Nint,"0")+"00"+archivo2+"_copia"+str(copy+1)+".dat"
            #print(f)
            try:
                data = pd.read_csv(f, header=2, sep=r'\s+')
                polarx += data.iloc[Ntemp, 17]
                polary += data.iloc[Ntemp, 18]
                polarz += data.iloc[Ntemp, 19]
                magnet += data.iloc[Ntemp, 9]
                absmagnet += data.iloc[Ntemp, 10]
                chiral += data.iloc[Ntemp, 13] / (8 * 3.14159)
                contador += 1
            except FileNotFoundError:
                if CantidadRealdeCopias > 1:
                    CantidadRealdeCopias -= 1

            #print(f"E = {ee}, B = {hh}, Copias reales = {contador}, Cantidad real de copias = {CantidadRealdeCopias}")

        # Promedio de los valores recolectados
        datapolarx.append(polarx / CantidadRealdeCopias)
        datapolary.append(polary / CantidadRealdeCopias)
        datapolarz.append(polarz / CantidadRealdeCopias)
        datamagnet.append(magnet / CantidadRealdeCopias)
        dataabsmagnet.append(absmagnet / CantidadRealdeCopias)
        datachiral.append(chiral / CantidadRealdeCopias)

        # Guardar los datos de los campos B y E
        if n == 0:
            campoB = data.iloc[Ntemp,3] #1,2,3
            datacampoB.append(campoB)


    if Estr == "Exy": locE = 4
    if Estr == "Ez": locE = 6
    campoE=data.iloc[Ntemp,locE] #4 for Ex, 5 for Ey, 6 for Ez
    datacampoE.append(campoE)

# Guardar los datos de temperatura
for temp2 in range(Ntemp):
    datatemp.append(data.iloc[temp2, 0])

# Convertir las listas a arreglos numpy
densitypolarx = np.array(datapolarx).reshape(Ne, Nb)
densitypolary = np.array(datapolary).reshape(Ne, Nb)
densitypolarz = np.array(datapolarz).reshape(Ne, Nb)
densitymagnet = np.array(datamagnet).reshape(Ne, Nb)
densityabsmagnet = np.array(dataabsmagnet).reshape(Ne, Nb)
densitychiral = np.array(datachiral).reshape(Ne, Nb)

arraycampoB = np.array(datacampoB)
arraycampoE = np.array(datacampoE)
temperature = np.array(datatemp)



# Aplanar los arrays para crear las combinaciones de (B, E)
arraycampoB_flat = np.tile(arraycampoB, Ne)  # Repite los valores de B Ne veces
arraycampoE_flat = np.repeat(arraycampoE, Nb)  # Repite los valores de E Nb veces

#print(arraycampoE_flat)
#print(arraycampoB_flat)

# Aplanar las densidades para que coincidan con la estructura (Ne * Nb)
densitypolarx_flat = densitypolarx.flatten()
densitypolary_flat = densitypolary.flatten()
densitypolarz_flat = densitypolarz.flatten()
densitymagnet_flat = densitymagnet.flatten()
densityabsmagnet_flat = densityabsmagnet.flatten()
densitychiral_flat = densitychiral.flatten()

# Crear el DataFrame con las columnas CampoB, CampoE y las densidades correspondientes
df = pd.DataFrame({
    'CampoB': arraycampoB_flat,
    'CampoE': arraycampoE_flat,
    'DensityPolarX': densitypolarx_flat,
    'DensityPolarY': densitypolary_flat,
    'DensityPolarZ': densitypolarz_flat,
    'DensityMagnet': densitymagnet_flat,
    'DensityabsMagnet': densityabsmagnet_flat,
    'DensityChiral': densitychiral_flat
})

# Guardar los datos en un archivo CSV
archivo = archivo1 + archivo2 +"_"+ Estr +"_"+ hstr
df.to_csv("D:\\Doctorado\\data2025\\DensityData\\DensityData_"+archivo+".csv", index=False)

print("Datos guardados en D:\\Doctorado\\data2025\\DensityData\\DensityData_"+archivo+".csv")
